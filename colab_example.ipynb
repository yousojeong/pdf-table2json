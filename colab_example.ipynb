{
  "cells": [
    {
      "cell_type": "markdown",
      "metadata": {
        "colab_type": "text",
        "id": "view-in-github"
      },
      "source": [
        "<a href=\"https://colab.research.google.com/github/yousojeong/pdf-table2json/blob/main/colab_example.ipynb\" target=\"_parent\"><img src=\"https://colab.research.google.com/assets/colab-badge.svg\" alt=\"Open In Colab\"/></a>"
      ]
    },
    {
      "cell_type": "markdown",
      "metadata": {
        "id": "1RJVuNGuMbym"
      },
      "source": [
        "### Connect Google Drive to Colab"
      ]
    },
    {
      "cell_type": "code",
      "execution_count": null,
      "metadata": {
        "colab": {
          "base_uri": "https://localhost:8080/"
        },
        "id": "ZDGPWjRwMScy",
        "outputId": "eafd1ac1-3144-4c40-80f9-79fbcee53c52"
      },
      "outputs": [
        {
          "name": "stdout",
          "output_type": "stream",
          "text": [
            "Mounted at /content/drive\n"
          ]
        }
      ],
      "source": [
        "from google.colab import drive\n",
        "drive.mount('/content/drive')"
      ]
    },
    {
      "cell_type": "markdown",
      "metadata": {
        "id": "i8q7EykLMZdV"
      },
      "source": [
        "### pdf-table2json insatll"
      ]
    },
    {
      "cell_type": "code",
      "execution_count": null,
      "metadata": {
        "colab": {
          "base_uri": "https://localhost:8080/"
        },
        "id": "-yfht1TDL1PM",
        "outputId": "341e9776-4104-4118-9a30-798eb1aa06f5"
      },
      "outputs": [
        {
          "name": "stdout",
          "output_type": "stream",
          "text": [
            "Collecting pdf-table2json\n",
            "  Downloading pdf_table2json-0.0.6-py3-none-any.whl (23 kB)\n",
            "Requirement already satisfied: opencv-python in /usr/local/lib/python3.10/dist-packages (from pdf-table2json) (4.8.0.76)\n",
            "Requirement already satisfied: numpy in /usr/local/lib/python3.10/dist-packages (from pdf-table2json) (1.23.5)\n",
            "Collecting PyMuPDF (from pdf-table2json)\n",
            "  Downloading PyMuPDF-1.23.3-cp310-none-manylinux2014_x86_64.whl (4.3 MB)\n",
            "\u001b[2K     \u001b[90m━━━━━━━━━━━━━━━━━━━━━━━━━━━━━━━━━━━━━━━━\u001b[0m \u001b[32m4.3/4.3 MB\u001b[0m \u001b[31m18.0 MB/s\u001b[0m eta \u001b[36m0:00:00\u001b[0m\n",
            "\u001b[?25hCollecting PyMuPDFb==1.23.3 (from PyMuPDF->pdf-table2json)\n",
            "  Downloading PyMuPDFb-1.23.3-py3-none-manylinux2014_x86_64.manylinux_2_17_x86_64.whl (30.6 MB)\n",
            "\u001b[2K     \u001b[90m━━━━━━━━━━━━━━━━━━━━━━━━━━━━━━━━━━━━━━━━\u001b[0m \u001b[32m30.6/30.6 MB\u001b[0m \u001b[31m39.9 MB/s\u001b[0m eta \u001b[36m0:00:00\u001b[0m\n",
            "\u001b[?25hInstalling collected packages: PyMuPDFb, PyMuPDF, pdf-table2json\n",
            "Successfully installed PyMuPDF-1.23.3 PyMuPDFb-1.23.3 pdf-table2json-0.0.6\n"
          ]
        }
      ],
      "source": [
        "!pip install pdf-table2json"
      ]
    },
    {
      "cell_type": "markdown",
      "metadata": {
        "id": "yN4i-ElRMslP"
      },
      "source": [
        "### Parse the table of pdf of the path and return it in JSON format"
      ]
    },
    {
      "cell_type": "code",
      "execution_count": null,
      "metadata": {
        "colab": {
          "base_uri": "https://localhost:8080/"
        },
        "id": "CHWoiiMPMEYj",
        "outputId": "3da30588-de44-4418-8765-ad939d897047"
      },
      "outputs": [
        {
          "name": "stdout",
          "output_type": "stream",
          "text": [
            "/content/drive/MyDrive/pdf_table2json/example_table/\n",
            "Page 1 converted to image: /content/drive/MyDrive/pdf_table2json/example_table/page_1.png\n",
            "---------------------\n",
            "[\n",
            "    \"[\\n    {\\n        \\\"row\\\": 0,\\n        \\\"columns\\\": [\\n            [\\n                \\\"Header1\\\",\\n                \\\"Header2\\\",\\n                \\\"Header3\\\",\\n                \\\"Header4\\\",\\n                \\\"Header5\\\"\\n            ],\\n            [\\n                \\\"a\\\",\\n                \\\"b\\\",\\n                \\\"c\\\",\\n                \\\"d\\\",\\n                \\\"e\\\"\\n            ],\\n            [\\n                \\\"f\\\",\\n                \\\"g\\\",\\n                \\\"h\\\",\\n                \\\"i\\\",\\n                \\\"j\\\"\\n            ],\\n            [\\n                \\\"a\\\",\\n                \\\"b\\\",\\n                \\\"c\\\",\\n                \\\"d\\\",\\n                \\\"e\\\"\\n            ],\\n            [\\n                \\\"f\\\",\\n                \\\"g\\\",\\n                \\\"h\\\",\\n                \\\"i\\\",\\n                \\\"j\\\"\\n            ],\\n            [\\n                \\\"a\\\",\\n                \\\"b\\\",\\n                \\\"c\\\",\\n                \\\"d\\\",\\n                \\\"e\\\"\\n            ],\\n            [\\n                \\\"f\\\",\\n                \\\"g\\\",\\n                \\\"h\\\",\\n                \\\"i\\\",\\n                \\\"j\\\"\\n            ]\\n        ]\\n    }\\n]\"\n",
            "]\n"
          ]
        }
      ],
      "source": [
        "import pdf_table2json.converter as converter\n",
        "\n",
        "path = \"PDF_PATH/PDF_NAME.pdf\"\n",
        "\n",
        "result = converter.main(path)\n",
        "\n",
        "print(\"---------------------\")\n",
        "\n",
        "print(result)"
      ]
    }
  ],
  "metadata": {
    "colab": {
      "authorship_tag": "ABX9TyNzrOw+o9RNt3XBurprsCv5",
      "include_colab_link": true,
      "provenance": []
    },
    "kernelspec": {
      "display_name": "Python 3",
      "name": "python3"
    },
    "language_info": {
      "name": "python"
    }
  },
  "nbformat": 4,
  "nbformat_minor": 0
}
